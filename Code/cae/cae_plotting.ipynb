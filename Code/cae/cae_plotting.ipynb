{
 "cells": [
  {
   "cell_type": "code",
   "execution_count": null,
   "id": "f5fdb5fa-c818-4380-a3a7-773cd3abf541",
   "metadata": {},
   "outputs": [],
   "source": [
    "import numpy as np\n",
    "import matplotlib\n",
    "import matplotlib.cm as cmx\n",
    "from matplotlib import pyplot as plt\n",
    "from datetime import date"
   ]
  },
  {
   "cell_type": "code",
   "execution_count": null,
   "id": "9970dfb3-a73f-4290-8658-08b91598f49a",
   "metadata": {},
   "outputs": [],
   "source": [
    "today = date.today()\n",
    "d = today.strftime(\"%b-%d-%Y\")"
   ]
  },
  {
   "cell_type": "code",
   "execution_count": null,
   "id": "e3a4a04e-cb60-48d6-a131-1795383e0e08",
   "metadata": {},
   "outputs": [],
   "source": [
    "npzfile1 = np.load('/gpfs/alpine/gen150/scratch/arjun2612/ORNL_Coding/Code/cae/clusterfiles.npz')\n",
    "npzfile2 = np.load('/gpfs/alpine/gen150/scratch/arjun2612/ORNL_Coding/Code/cae/plotting.npz')\n",
    "reduced_val = npzfile1['redval']\n",
    "predicted = npzfile2['res']\n",
    "label_validation = npzfile2['labval']"
   ]
  },
  {
   "cell_type": "code",
   "execution_count": null,
   "id": "7df18ec2-2578-47e1-a0bd-9f0926eaccbd",
   "metadata": {},
   "outputs": [],
   "source": [
    "cNorm = matplotlib.colors.Normalize(vmin=min(predicted), vmax=max(predicted))\n",
    "scalarMap = cmx.ScalarMappable(norm=cNorm)\n",
    "fig = plt.figure(7)\n",
    "plt.scatter(reduced_val[:, 0], reduced_val[:, 1], c=scalarMap.to_rgba(predicted))\n",
    "scalarMap.set_array(predicted)\n",
    "cbar = fig.colorbar(scalarMap)\n",
    "cbar.set_ticks([0,1,2])\n",
    "cbar.set_ticklabels([\"COV2\", \"MERS\", \"SARS\"])\n",
    "plt.title('CAE Cluster Map of Predicted Set')\n",
    "fig.savefig('cae_pred_' + d + '.png')\n",
    "plt.show()"
   ]
  },
  {
   "cell_type": "code",
   "execution_count": null,
   "id": "73d2882c-93fc-4d4a-8237-a315ac2aac4e",
   "metadata": {},
   "outputs": [],
   "source": [
    "cNorm = matplotlib.colors.Normalize(vmin=min(label_validation), vmax=max(label_validation))\n",
    "scalarMap = cmx.ScalarMappable(norm=cNorm)\n",
    "fig = plt.figure(8)\n",
    "plt.scatter(reduced_val[:, 0], reduced_val[:, 1], c=scalarMap.to_rgba(label_validation))\n",
    "scalarMap.set_array(label_validation)\n",
    "cbar = fig.colorbar(scalarMap)\n",
    "cbar.set_ticks([0,1,2])\n",
    "cbar.set_ticklabels([\"COV2\", \"MERS\", \"SARS\"])\n",
    "plt.title('CAE Cluster Map of Validation Set')\n",
    "fig.savefig('cae_val_' + d + '.png')\n",
    "plt.show()"
   ]
  }
 ],
 "metadata": {
  "kernelspec": {
   "display_name": "OLCF-CUDA11",
   "language": "python",
   "name": "python3"
  },
  "language_info": {
   "codemirror_mode": {
    "name": "ipython",
    "version": 3
   },
   "file_extension": ".py",
   "mimetype": "text/x-python",
   "name": "python",
   "nbconvert_exporter": "python",
   "pygments_lexer": "ipython3",
   "version": "3.8.3"
  }
 },
 "nbformat": 4,
 "nbformat_minor": 5
}
