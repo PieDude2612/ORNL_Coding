{
 "cells": [
  {
   "cell_type": "code",
   "execution_count": 1,
   "id": "66d8af29-d007-4208-8056-f0b345c67aeb",
   "metadata": {},
   "outputs": [],
   "source": [
    "import time\n",
    "import numpy as np\n",
    "import random\n",
    "from sklearn.utils import shuffle\n",
    "from tensorflow.keras.utils import to_categorical"
   ]
  },
  {
   "cell_type": "code",
   "execution_count": 2,
   "id": "98bc0979-7b80-4f69-bfa4-582472bce899",
   "metadata": {},
   "outputs": [
    {
     "name": "stdout",
     "output_type": "stream",
     "text": [
      "Tue Jul  6 14:30:48 2021: Initializing...\n",
      "Tue Jul  6 14:30:50 2021: Successfully loaded all data sets!\n"
     ]
    }
   ],
   "source": [
    "print(str(time.ctime()) + \": Initializing...\")\n",
    "\n",
    "dset_train = np.load('/gpfs/alpine/proj-shared/gen150/junqi/hea/without-channel/HEA_train.npy')\n",
    "dset_val = np.load('/gpfs/alpine/proj-shared/gen150/junqi/hea/without-channel/HEA_val.npy')\n",
    "lt = np.load('/gpfs/alpine/gen150/proj-shared/junqi/hea/label_T_train.npy')\n",
    "lv = np.load('/gpfs/alpine/gen150/proj-shared/junqi/hea/label_T_val.npy')\n",
    "\n",
    "print(str(time.ctime()) + \": Successfully loaded all data sets!\")"
   ]
  },
  {
   "cell_type": "code",
   "execution_count": 3,
   "id": "13fd6d32-ce00-48ab-be49-313d752018c8",
   "metadata": {},
   "outputs": [],
   "source": [
    "train_size = 4000\n",
    "val_size = 1000\n",
    "dim = 64\n",
    "hea_size = 40"
   ]
  },
  {
   "cell_type": "code",
   "execution_count": 4,
   "id": "c9675284-c81c-4360-8b34-dba8a32efdc3",
   "metadata": {},
   "outputs": [],
   "source": [
    "trainset = dset_train[0:train_size, 0:hea_size, 0:hea_size, 0:hea_size]\n",
    "valset = dset_val[0:val_size, 0:hea_size, 0:hea_size, 0:hea_size]\n",
    "\n",
    "label_training = lt[0:train_size]\n",
    "label_validation = lv[0:val_size]"
   ]
  },
  {
   "cell_type": "code",
   "execution_count": 5,
   "id": "d551f07d-4bfe-4ec1-9e92-acb5f536493c",
   "metadata": {},
   "outputs": [
    {
     "name": "stdout",
     "output_type": "stream",
     "text": [
      "(40000, 46, 46, 46)\n",
      "(4000, 40, 40, 40)\n",
      "(10000, 46, 46, 46)\n",
      "(1000, 40, 40, 40)\n"
     ]
    }
   ],
   "source": [
    "print(dset_train.shape)\n",
    "print(trainset.shape)\n",
    "print(dset_val.shape)\n",
    "print(valset.shape)"
   ]
  },
  {
   "cell_type": "code",
   "execution_count": 6,
   "id": "6a403782-9c89-4c9e-b1b1-cba53eb82d14",
   "metadata": {},
   "outputs": [
    {
     "name": "stdout",
     "output_type": "stream",
     "text": [
      "(4000, 64000)\n",
      "(1000, 64000)\n"
     ]
    }
   ],
   "source": [
    "train_2D = np.reshape(trainset, (trainset.shape[0], -1))\n",
    "val_2D = np.reshape(valset, (valset.shape[0], -1))\n",
    "print(train_2D.shape)\n",
    "print(val_2D.shape)"
   ]
  },
  {
   "cell_type": "code",
   "execution_count": 7,
   "id": "937740cb-2725-4c59-b08e-b500a79d36d3",
   "metadata": {},
   "outputs": [
    {
     "name": "stdout",
     "output_type": "stream",
     "text": [
      "(4000, 64)\n",
      "[1. 1. 1. 1. 1. 1. 3. 1. 3. 1. 4. 1. 1. 4. 3. 4. 4. 4. 4. 1. 1. 1. 4. 1.\n",
      " 1. 1. 1. 1. 1. 1. 3. 3. 3. 4. 4. 4. 4. 1. 1. 3. 1. 4. 1. 4. 4. 3. 1. 3.\n",
      " 3. 1. 4. 3. 3. 1. 1. 1. 4. 1. 4. 1. 4. 4. 1. 1.]\n"
     ]
    }
   ],
   "source": [
    "train_nonzero = np.ndarray(shape=(train_size, dim))\n",
    "for row in range(train_2D.shape[0]):\n",
    "    mat = train_2D[row].flatten()\n",
    "    mat = mat[np.where(mat != 0)]\n",
    "    train_nonzero[row, :] = mat[0:dim]\n",
    "print(train_nonzero.shape)\n",
    "print(train_nonzero[0, :])"
   ]
  },
  {
   "cell_type": "code",
   "execution_count": 8,
   "id": "93df31aa-5206-4f79-9086-1b082a7c0249",
   "metadata": {},
   "outputs": [
    {
     "name": "stdout",
     "output_type": "stream",
     "text": [
      "(1000, 64)\n",
      "[3. 3. 1. 4. 4. 2. 1. 4. 3. 1. 4. 4. 3. 2. 1. 2. 2. 4. 4. 3. 1. 3. 1. 1.\n",
      " 1. 4. 4. 4. 2. 1. 3. 1. 1. 4. 4. 1. 3. 2. 1. 1. 3. 4. 1. 3. 1. 4. 1. 4.\n",
      " 2. 1. 2. 1. 1. 1. 4. 1. 1. 4. 3. 2. 4. 4. 4. 1.]\n"
     ]
    }
   ],
   "source": [
    "val_nonzero = np.ndarray(shape=(val_size, dim))\n",
    "for row in range(val_2D.shape[0]):\n",
    "    mat = val_2D[row].flatten()\n",
    "    mat = mat[np.where(mat != 0)]\n",
    "    val_nonzero[row, :] = mat[0:dim]\n",
    "print(val_nonzero.shape)\n",
    "print(val_nonzero[0, :])"
   ]
  },
  {
   "cell_type": "code",
   "execution_count": 9,
   "id": "f6166741-e738-4df0-b184-5e1ed76975f3",
   "metadata": {},
   "outputs": [],
   "source": [
    "lt_onehot = to_categorical(label_training) # make one hot vectors\n",
    "lv_onehot = to_categorical(label_validation)\n",
    "ltunique = np.unique(label_training).astype(int)\n",
    "lvunique = np.unique(label_validation).astype(int)"
   ]
  },
  {
   "cell_type": "code",
   "execution_count": 10,
   "id": "e5995f9f-4ef8-40d5-a3cb-ee3d56c7214f",
   "metadata": {},
   "outputs": [
    {
     "name": "stdout",
     "output_type": "stream",
     "text": [
      "[  50   83  200  524 1500]\n",
      "[  50   83  200  524 1500]\n"
     ]
    }
   ],
   "source": [
    "print(ltunique)\n",
    "print(lvunique)"
   ]
  },
  {
   "cell_type": "code",
   "execution_count": 11,
   "id": "01cd0595-214d-4f20-98e0-77fe712e2200",
   "metadata": {},
   "outputs": [],
   "source": [
    "lt_onehot = lt_onehot[:, ltunique]\n",
    "lv_onehot = lv_onehot[:, lvunique]"
   ]
  },
  {
   "cell_type": "code",
   "execution_count": 12,
   "id": "80497c12-03b9-4cdf-aa2a-6a5643c95269",
   "metadata": {},
   "outputs": [
    {
     "name": "stdout",
     "output_type": "stream",
     "text": [
      "(4000, 5)\n",
      "(1000, 5)\n",
      "200.0\n",
      "[0. 0. 1. 0. 0.]\n",
      "1500.0\n",
      "[0. 0. 0. 0. 1.]\n"
     ]
    }
   ],
   "source": [
    "print(lt_onehot.shape)\n",
    "print(lv_onehot.shape)\n",
    "print(lt[0])\n",
    "print(lt_onehot[0])\n",
    "print(lv[0])\n",
    "print(lv_onehot[0])"
   ]
  },
  {
   "cell_type": "code",
   "execution_count": 13,
   "id": "62ffffc4-3cc7-413e-a095-171e9e857c2a",
   "metadata": {},
   "outputs": [],
   "source": [
    "np.savez('hea_dataset.npz', train=train_nonzero, val=val_nonzero, train4D = trainset, val4D = valset, ltoh=lt_onehot, lvoh=lv_onehot, labtrain=label_training, labval=label_validation)"
   ]
  }
 ],
 "metadata": {
  "kernelspec": {
   "display_name": "OLCF-CUDA11",
   "language": "python",
   "name": "python3"
  },
  "language_info": {
   "codemirror_mode": {
    "name": "ipython",
    "version": 3
   },
   "file_extension": ".py",
   "mimetype": "text/x-python",
   "name": "python",
   "nbconvert_exporter": "python",
   "pygments_lexer": "ipython3",
   "version": "3.8.3"
  }
 },
 "nbformat": 4,
 "nbformat_minor": 5
}
