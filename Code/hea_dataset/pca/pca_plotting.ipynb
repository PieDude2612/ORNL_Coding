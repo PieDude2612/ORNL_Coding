{
 "cells": [
  {
   "cell_type": "code",
   "execution_count": null,
   "id": "308b344e-456c-4936-92f0-8857ca154124",
   "metadata": {},
   "outputs": [],
   "source": [
    "import numpy as np\n",
    "from datetime import date\n",
    "import matplotlib\n",
    "import matplotlib.cm as cmx\n",
    "from matplotlib import pyplot as plt"
   ]
  },
  {
   "cell_type": "code",
   "execution_count": null,
   "id": "891bf819-695a-4198-bbba-379ec1c27346",
   "metadata": {},
   "outputs": [],
   "source": [
    "npzfile = np.load('/gpfs/alpine/gen150/scratch/arjun2612/ORNL_Coding/Code/hea_dataset/pca/plotting.npz')\n",
    "result = npzfile['res']\n",
    "label_validation = npzfile['lv']\n",
    "reduced_val = npzfile['redval']"
   ]
  },
  {
   "cell_type": "code",
   "execution_count": null,
   "id": "f43bd5e4-79e2-4c3f-ac43-4cbc7d8698ee",
   "metadata": {},
   "outputs": [],
   "source": [
    "today = date.today()\n",
    "d = today.strftime(\"%b-%d-%Y\")"
   ]
  },
  {
   "cell_type": "code",
   "execution_count": null,
   "id": "d5ad3148-bf70-46df-92da-c34bc083bf91",
   "metadata": {},
   "outputs": [],
   "source": [
    "cNorm = matplotlib.colors.Normalize(vmin=min(result), vmax=max(result))\n",
    "scalarMap = cmx.ScalarMappable(norm=cNorm)\n",
    "fig = plt.figure(1)\n",
    "plt.scatter(reduced_val[:, 0], reduced_val[:, 1], c=scalarMap.to_rgba(result))\n",
    "scalarMap.set_array(result)\n",
    "cbar = fig.colorbar(scalarMap)\n",
    "cbar.set_ticks([0,1,2,3,4])\n",
    "cbar.set_ticklabels([\"A\", \"B\", \"C\", \"D\", \"E\"])\n",
    "plt.xlabel('Principal Component 1')\n",
    "plt.ylabel('Principal Component 2')\n",
    "plt.title('PCA Cluster Map of Predicted Set')\n",
    "# fig.savefig('pca_pred_' + d + '.png')\n",
    "plt.show()"
   ]
  },
  {
   "cell_type": "code",
   "execution_count": null,
   "id": "5cd472c5-b2ee-430e-8f67-296f9440f742",
   "metadata": {},
   "outputs": [],
   "source": [
    "cNorm = matplotlib.colors.Normalize(vmin=min(label_validation), vmax=max(label_validation))\n",
    "scalarMap = cmx.ScalarMappable(norm=cNorm)\n",
    "fig = plt.figure(2)\n",
    "plt.scatter(reduced_val[:, 0], reduced_val[:, 1], c=scalarMap.to_rgba(label_validation))\n",
    "scalarMap.set_array(label_validation)\n",
    "cbar = fig.colorbar(scalarMap)\n",
    "cbar.set_ticks([0,1,2,3,4])\n",
    "cbar.set_ticklabels([\"A\", \"B\", \"C\", \"D\", \"E\"])\n",
    "plt.xlabel('Principal Component 1')\n",
    "plt.ylabel('Principal Component 2')\n",
    "plt.title('PCA Cluster Map of Validation Set')\n",
    "# fig.savefig('pca_val_' + d + '.png')\n",
    "plt.show()"
   ]
  }
 ],
 "metadata": {
  "kernelspec": {
   "display_name": "OLCF-CUDA11",
   "language": "python",
   "name": "python3"
  },
  "language_info": {
   "codemirror_mode": {
    "name": "ipython",
    "version": 3
   },
   "file_extension": ".py",
   "mimetype": "text/x-python",
   "name": "python",
   "nbconvert_exporter": "python",
   "pygments_lexer": "ipython3",
   "version": "3.8.3"
  }
 },
 "nbformat": 4,
 "nbformat_minor": 5
}
