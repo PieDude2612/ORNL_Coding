{
 "cells": [
  {
   "cell_type": "code",
   "execution_count": null,
   "id": "49d14a06-6cec-4501-8dd2-851ae6750a44",
   "metadata": {},
   "outputs": [],
   "source": [
    "import numpy as np\n",
    "import matplotlib\n",
    "import matplotlib.cm as cmx\n",
    "from matplotlib import pyplot as plt\n",
    "from datetime import date"
   ]
  },
  {
   "cell_type": "code",
   "execution_count": null,
   "id": "fc1474eb-336e-4106-81b1-b66912da3696",
   "metadata": {},
   "outputs": [],
   "source": [
    "today = date.today()\n",
    "d = today.strftime(\"%b-%d-%Y\")"
   ]
  },
  {
   "cell_type": "code",
   "execution_count": null,
   "id": "4477480f-8b4c-4fe8-914c-5bec5baf6248",
   "metadata": {},
   "outputs": [],
   "source": [
    "npzfile1 = np.load('/gpfs/alpine/gen150/scratch/arjun2612/ORNL_Coding/Code/hea_dataset/cae/clusterfiles.npz')\n",
    "npzfile2 = np.load('/gpfs/alpine/gen150/scratch/arjun2612/ORNL_Coding/Code/hea_dataset/cae/plotting.npz')\n",
    "reduced_val = npzfile1['redval']\n",
    "predicted = npzfile2['res']\n",
    "label_validation = npzfile2['labval']"
   ]
  },
  {
   "cell_type": "code",
   "execution_count": null,
   "id": "7ae0ae86-e3b1-4cd2-b5b2-0f39098095ca",
   "metadata": {},
   "outputs": [],
   "source": [
    "cNorm = matplotlib.colors.Normalize(vmin=min(predicted), vmax=max(predicted))\n",
    "scalarMap = cmx.ScalarMappable(norm=cNorm)\n",
    "fig = plt.figure(7)\n",
    "plt.scatter(reduced_val[:, 0], reduced_val[:, 1], c=scalarMap.to_rgba(predicted))\n",
    "scalarMap.set_array(predicted)\n",
    "cbar = fig.colorbar(scalarMap)\n",
    "cbar.set_ticks([0,1,2,3,4])\n",
    "cbar.set_ticklabels([\"A\", \"B\", \"C\", \"D\", \"E\"])\n",
    "plt.title('CAE Cluster Map of Predicted Set')\n",
    "# fig.savefig('cae_pred_' + d + '.png')\n",
    "plt.show()"
   ]
  },
  {
   "cell_type": "code",
   "execution_count": null,
   "id": "d16bd8a2-5d3d-4ed1-b026-7d96f724b3af",
   "metadata": {},
   "outputs": [],
   "source": [
    "cNorm = matplotlib.colors.Normalize(vmin=min(label_validation), vmax=max(label_validation))\n",
    "scalarMap = cmx.ScalarMappable(norm=cNorm)\n",
    "fig = plt.figure(8)\n",
    "plt.scatter(reduced_val[:, 0], reduced_val[:, 1], c=scalarMap.to_rgba(label_validation))\n",
    "scalarMap.set_array(label_validation)\n",
    "cbar = fig.colorbar(scalarMap)\n",
    "cbar.set_ticks([0,1,2,3,4])\n",
    "cbar.set_ticklabels([\"A\", \"B\", \"C\", \"D\", \"E\"])\n",
    "plt.title('CAE Cluster Map of Validation Set')\n",
    "# fig.savefig('cae_val_' + d + '.png')\n",
    "plt.show()"
   ]
  }
 ],
 "metadata": {
  "kernelspec": {
   "display_name": "OLCF-CUDA11",
   "language": "python",
   "name": "python3"
  },
  "language_info": {
   "codemirror_mode": {
    "name": "ipython",
    "version": 3
   },
   "file_extension": ".py",
   "mimetype": "text/x-python",
   "name": "python",
   "nbconvert_exporter": "python",
   "pygments_lexer": "ipython3",
   "version": "3.8.3"
  }
 },
 "nbformat": 4,
 "nbformat_minor": 5
}
