{
 "cells": [
  {
   "cell_type": "code",
   "execution_count": null,
   "id": "1f4fba31-4fec-4a91-952a-b68db46854a4",
   "metadata": {},
   "outputs": [],
   "source": [
    "import matplotlib\n",
    "import matplotlib.cm as cmx\n",
    "from matplotlib import pyplot as plt\n",
    "import numpy as np\n",
    "from datetime import date"
   ]
  },
  {
   "cell_type": "code",
   "execution_count": null,
   "id": "1a973cea-b191-462b-9017-1e6c38bd273f",
   "metadata": {},
   "outputs": [],
   "source": [
    "today = date.today()\n",
    "d = today.strftime(\"%b-%d-%Y\")"
   ]
  },
  {
   "cell_type": "code",
   "execution_count": null,
   "id": "c8769dab-e257-4fa3-86d5-5b1ef8935048",
   "metadata": {},
   "outputs": [],
   "source": [
    "npzfile = np.load('/gpfs/alpine/gen150/scratch/arjun2612/ORNL_Coding/Code/hea_dataset/kmeans/sk_plotting.npz')\n",
    "labels_val = npzfile['reslab']\n",
    "label_validation = npzfile['lv']\n",
    "reduced_val = npzfile['redval']"
   ]
  },
  {
   "cell_type": "code",
   "execution_count": null,
   "id": "43ca3a01-7725-4e2b-8f94-65ea722878b1",
   "metadata": {},
   "outputs": [],
   "source": [
    "cNorm = matplotlib.colors.Normalize(vmin=min(labels_val), vmax=max(labels_val))\n",
    "scalarMap = cmx.ScalarMappable(norm=cNorm)\n",
    "fig = plt.figure(5)\n",
    "plt.scatter(reduced_val[:, 0], reduced_val[:, 1], c=scalarMap.to_rgba(labels_val))\n",
    "scalarMap.set_array(labels_val)\n",
    "cbar = fig.colorbar(scalarMap)\n",
    "cbar.set_ticks([0,1,2,3,4])\n",
    "cbar.set_ticklabels([\"A\", \"B\", \"C\", \"D\", \"E\"])\n",
    "plt.title('K-Means Cluster Map of Predicted Set')\n",
    "# fig.savefig('kmeans_pred_' + d + '.png')\n",
    "plt.show()"
   ]
  },
  {
   "cell_type": "code",
   "execution_count": null,
   "id": "446b3ade-23ec-4d25-a75e-2b0bb8ff7060",
   "metadata": {},
   "outputs": [],
   "source": [
    "cNorm = matplotlib.colors.Normalize(vmin=min(label_validation), vmax=max(label_validation))\n",
    "scalarMap = cmx.ScalarMappable(norm=cNorm)\n",
    "fig = plt.figure(6)\n",
    "plt.scatter(reduced_val[:, 0], reduced_val[:, 1], c=scalarMap.to_rgba(label_validation))\n",
    "scalarMap.set_array(label_validation)\n",
    "cbar = fig.colorbar(scalarMap)\n",
    "cbar.set_ticks([0,1,2,3,4])\n",
    "cbar.set_ticklabels([\"A\", \"B\", \"C\", \"D\", \"E\"])\n",
    "plt.title('K-Means Cluster Map of Validation Set')\n",
    "# fig.savefig('kmeans_val_' + d + '.png')\n",
    "plt.show()"
   ]
  }
 ],
 "metadata": {
  "kernelspec": {
   "display_name": "OLCF-CUDA11",
   "language": "python",
   "name": "python3"
  },
  "language_info": {
   "codemirror_mode": {
    "name": "ipython",
    "version": 3
   },
   "file_extension": ".py",
   "mimetype": "text/x-python",
   "name": "python",
   "nbconvert_exporter": "python",
   "pygments_lexer": "ipython3",
   "version": "3.8.3"
  }
 },
 "nbformat": 4,
 "nbformat_minor": 5
}
