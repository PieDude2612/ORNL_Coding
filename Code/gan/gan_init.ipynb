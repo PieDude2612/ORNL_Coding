{
 "cells": [
  {
   "cell_type": "code",
   "execution_count": 1,
   "id": "4ba90ad9-d33f-43fb-94b1-7f903c38b9f0",
   "metadata": {},
   "outputs": [
    {
     "name": "stderr",
     "output_type": "stream",
     "text": [
      "2021-08-11 11:25:36.318743: I tensorflow/stream_executor/platform/default/dso_loader.cc:49] Successfully opened dynamic library libcudart.so.11.0\n"
     ]
    }
   ],
   "source": [
    "import numpy as np\n",
    "import time\n",
    "import tensorflow as tf\n",
    "from tensorflow import keras\n",
    "from tensorflow.keras.layers import Dense, Reshape, BatchNormalization, Conv2D, Conv2DTranspose, Conv3D, Conv3DTranspose, LeakyReLU, Dropout, Flatten, AveragePooling2D, AveragePooling3D, UpSampling2D, UpSampling3D\n",
    "from tensorflow.keras import Sequential, Input, Model\n",
    "from tensorflow.keras.callbacks import EarlyStopping\n",
    "from tensorflow.keras.losses import BinaryCrossentropy\n",
    "import matplotlib\n",
    "from matplotlib import pyplot as plt\n",
    "import matplotlib.cm as cmx\n",
    "import imageio, glob\n",
    "from sklearn.preprocessing import normalize\n",
    "from sklearn.decomposition import PCA "
   ]
  },
  {
   "cell_type": "code",
   "execution_count": 2,
   "id": "078a18b3-5665-4dd5-8907-83c58c74137b",
   "metadata": {},
   "outputs": [],
   "source": [
    "npzfile1 = np.load('/gpfs/alpine/gen150/scratch/arjun2612/ORNL_Coding/Code/sars_mers_cov2_dataset/smc2_dataset.npz')\n",
    "smc2_trainset = npzfile1['train4D']\n",
    "smc2_valset = npzfile1['val4D']\n",
    "smc2_lt_onehot = npzfile1['ltoh']\n",
    "smc2_lv_onehot = npzfile1['lvoh']\n",
    "smc2_label_validation = npzfile1['labval']"
   ]
  },
  {
   "cell_type": "code",
   "execution_count": 3,
   "id": "119f73f4-5ba4-4f3b-88de-cd181e1a0f16",
   "metadata": {},
   "outputs": [],
   "source": [
    "npzfile2 = np.load('/gpfs/alpine/gen150/scratch/arjun2612/ORNL_Coding/Code/hea_dataset/hea_dataset.npz')\n",
    "hea_trainset = npzfile2['train4D']\n",
    "hea_valset = npzfile2['val4D']\n",
    "hea_lt_onehot = npzfile2['ltoh']\n",
    "hea_lv_onehot = npzfile2['lvoh']\n",
    "hea_label_validation = npzfile2['labval']"
   ]
  },
  {
   "cell_type": "code",
   "execution_count": 4,
   "id": "ac5fd244-eaee-479f-a98f-fcf501e6b81a",
   "metadata": {},
   "outputs": [
    {
     "name": "stderr",
     "output_type": "stream",
     "text": [
      "2021-08-11 11:25:38.533490: I tensorflow/compiler/jit/xla_cpu_device.cc:41] Not creating XLA devices, tf_xla_enable_xla_devices not set\n",
      "2021-08-11 11:25:38.534361: I tensorflow/stream_executor/platform/default/dso_loader.cc:49] Successfully opened dynamic library libcuda.so.1\n",
      "2021-08-11 11:25:38.586354: I tensorflow/core/common_runtime/gpu/gpu_device.cc:1720] Found device 0 with properties: \n",
      "pciBusID: 0000:d8:00.0 name: Tesla V100-PCIE-16GB computeCapability: 7.0\n",
      "coreClock: 1.38GHz coreCount: 80 deviceMemorySize: 15.78GiB deviceMemoryBandwidth: 836.37GiB/s\n",
      "2021-08-11 11:25:38.586383: I tensorflow/stream_executor/platform/default/dso_loader.cc:49] Successfully opened dynamic library libcudart.so.11.0\n",
      "2021-08-11 11:25:38.588983: I tensorflow/stream_executor/platform/default/dso_loader.cc:49] Successfully opened dynamic library libcublas.so.11\n",
      "2021-08-11 11:25:38.589061: I tensorflow/stream_executor/platform/default/dso_loader.cc:49] Successfully opened dynamic library libcublasLt.so.11\n",
      "2021-08-11 11:25:38.590023: I tensorflow/stream_executor/platform/default/dso_loader.cc:49] Successfully opened dynamic library libcufft.so.10\n",
      "2021-08-11 11:25:38.590278: I tensorflow/stream_executor/platform/default/dso_loader.cc:49] Successfully opened dynamic library libcurand.so.10\n",
      "2021-08-11 11:25:38.592440: I tensorflow/stream_executor/platform/default/dso_loader.cc:49] Successfully opened dynamic library libcusolver.so.10\n",
      "2021-08-11 11:25:38.592982: I tensorflow/stream_executor/platform/default/dso_loader.cc:49] Successfully opened dynamic library libcusparse.so.11\n",
      "2021-08-11 11:25:38.593096: I tensorflow/stream_executor/platform/default/dso_loader.cc:49] Successfully opened dynamic library libcudnn.so.8\n",
      "2021-08-11 11:25:38.594661: I tensorflow/core/common_runtime/gpu/gpu_device.cc:1862] Adding visible gpu devices: 0\n",
      "2021-08-11 11:25:38.594965: I tensorflow/core/platform/cpu_feature_guard.cc:142] This TensorFlow binary is optimized with oneAPI Deep Neural Network Library (oneDNN) to use the following CPU instructions in performance-critical operations:  AVX512F\n",
      "To enable them in other operations, rebuild TensorFlow with the appropriate compiler flags.\n",
      "2021-08-11 11:25:38.595944: I tensorflow/compiler/jit/xla_gpu_device.cc:99] Not creating XLA devices, tf_xla_enable_xla_devices not set\n",
      "2021-08-11 11:25:38.596817: I tensorflow/core/common_runtime/gpu/gpu_device.cc:1720] Found device 0 with properties: \n",
      "pciBusID: 0000:d8:00.0 name: Tesla V100-PCIE-16GB computeCapability: 7.0\n",
      "coreClock: 1.38GHz coreCount: 80 deviceMemorySize: 15.78GiB deviceMemoryBandwidth: 836.37GiB/s\n",
      "2021-08-11 11:25:38.596838: I tensorflow/stream_executor/platform/default/dso_loader.cc:49] Successfully opened dynamic library libcudart.so.11.0\n",
      "2021-08-11 11:25:38.596863: I tensorflow/stream_executor/platform/default/dso_loader.cc:49] Successfully opened dynamic library libcublas.so.11\n",
      "2021-08-11 11:25:38.596873: I tensorflow/stream_executor/platform/default/dso_loader.cc:49] Successfully opened dynamic library libcublasLt.so.11\n",
      "2021-08-11 11:25:38.596884: I tensorflow/stream_executor/platform/default/dso_loader.cc:49] Successfully opened dynamic library libcufft.so.10\n",
      "2021-08-11 11:25:38.596894: I tensorflow/stream_executor/platform/default/dso_loader.cc:49] Successfully opened dynamic library libcurand.so.10\n",
      "2021-08-11 11:25:38.596903: I tensorflow/stream_executor/platform/default/dso_loader.cc:49] Successfully opened dynamic library libcusolver.so.10\n",
      "2021-08-11 11:25:38.596913: I tensorflow/stream_executor/platform/default/dso_loader.cc:49] Successfully opened dynamic library libcusparse.so.11\n",
      "2021-08-11 11:25:38.596922: I tensorflow/stream_executor/platform/default/dso_loader.cc:49] Successfully opened dynamic library libcudnn.so.8\n",
      "2021-08-11 11:25:38.598434: I tensorflow/core/common_runtime/gpu/gpu_device.cc:1862] Adding visible gpu devices: 0\n",
      "2021-08-11 11:25:38.598462: I tensorflow/stream_executor/platform/default/dso_loader.cc:49] Successfully opened dynamic library libcudart.so.11.0\n",
      "2021-08-11 11:25:39.083732: I tensorflow/core/common_runtime/gpu/gpu_device.cc:1261] Device interconnect StreamExecutor with strength 1 edge matrix:\n",
      "2021-08-11 11:25:39.083779: I tensorflow/core/common_runtime/gpu/gpu_device.cc:1267]      0 \n",
      "2021-08-11 11:25:39.083786: I tensorflow/core/common_runtime/gpu/gpu_device.cc:1280] 0:   N \n",
      "2021-08-11 11:25:39.086284: I tensorflow/core/common_runtime/gpu/gpu_device.cc:1406] Created TensorFlow device (/job:localhost/replica:0/task:0/device:GPU:0 with 14759 MB memory) -> physical GPU (device: 0, name: Tesla V100-PCIE-16GB, pci bus id: 0000:d8:00.0, compute capability: 7.0)\n"
     ]
    }
   ],
   "source": [
    "generator = Sequential()\n",
    "\n",
    "generator.add(Conv2DTranspose(128, (3, 3), padding='same', input_shape=(24, 24, 1), activation=LeakyReLU())) # batch_size x 24 x 24 x 128\n",
    "generator.add(Conv2DTranspose(64, (3, 3), padding='same', activation=LeakyReLU())) # batch_size x 24 x 24 x 64\n",
    "generator.add(BatchNormalization())\n",
    "\n",
    "generator.add(Conv2DTranspose(32, (3, 3), padding='same', activation=LeakyReLU())) # batch_size x 24 x 24 x 64\n",
    "generator.add(Conv2DTranspose(16, (3, 3), padding='same', activation=LeakyReLU())) # batch_size x 24 x 24 x 64\n",
    "generator.add(BatchNormalization())\n",
    "\n",
    "generator.add(Conv2DTranspose(8, (3, 3), padding='same', activation=LeakyReLU())) # batch_size x 24 x 24 x 64\n",
    "generator.add(BatchNormalization())\n",
    "\n",
    "generator.add(Conv2DTranspose(1, (3, 3), padding='same', activation='tanh')) # batch_size x 24 x 24 x 1"
   ]
  },
  {
   "cell_type": "code",
   "execution_count": 5,
   "id": "4416550c-fc72-43ca-bd04-5b7ca0ac10b5",
   "metadata": {
    "tags": []
   },
   "outputs": [
    {
     "name": "stdout",
     "output_type": "stream",
     "text": [
      "Model: \"sequential\"\n",
      "_________________________________________________________________\n",
      "Layer (type)                 Output Shape              Param #   \n",
      "=================================================================\n",
      "conv2d_transpose (Conv2DTran (None, 24, 24, 128)       1280      \n",
      "_________________________________________________________________\n",
      "conv2d_transpose_1 (Conv2DTr (None, 24, 24, 64)        73792     \n",
      "_________________________________________________________________\n",
      "batch_normalization (BatchNo (None, 24, 24, 64)        256       \n",
      "_________________________________________________________________\n",
      "conv2d_transpose_2 (Conv2DTr (None, 24, 24, 32)        18464     \n",
      "_________________________________________________________________\n",
      "conv2d_transpose_3 (Conv2DTr (None, 24, 24, 16)        4624      \n",
      "_________________________________________________________________\n",
      "batch_normalization_1 (Batch (None, 24, 24, 16)        64        \n",
      "_________________________________________________________________\n",
      "conv2d_transpose_4 (Conv2DTr (None, 24, 24, 8)         1160      \n",
      "_________________________________________________________________\n",
      "batch_normalization_2 (Batch (None, 24, 24, 8)         32        \n",
      "_________________________________________________________________\n",
      "conv2d_transpose_5 (Conv2DTr (None, 24, 24, 1)         73        \n",
      "=================================================================\n",
      "Total params: 99,745\n",
      "Trainable params: 99,569\n",
      "Non-trainable params: 176\n",
      "_________________________________________________________________\n"
     ]
    }
   ],
   "source": [
    "generator.summary()"
   ]
  },
  {
   "cell_type": "code",
   "execution_count": 6,
   "id": "bfa9a00a-557b-4236-9bf7-55c1726c4168",
   "metadata": {},
   "outputs": [],
   "source": [
    "discriminator = Sequential()\n",
    "discriminator.add(Conv2D(128, (3, 3), padding='same', input_shape=(24, 24, 1), activation=LeakyReLU()))\n",
    "discriminator.add(Conv2D(64, (3, 3), padding='same', activation=LeakyReLU()))\n",
    "discriminator.add(BatchNormalization())\n",
    "\n",
    "discriminator.add(Conv2D(32, (3, 3), padding='same', activation=LeakyReLU()))\n",
    "discriminator.add(Conv2D(16, (3, 3), padding='same', activation=LeakyReLU()))\n",
    "discriminator.add(BatchNormalization())\n",
    "\n",
    "discriminator.add(Conv2D(8, (3, 3), padding='same', activation=LeakyReLU()))\n",
    "discriminator.add(Dropout(0.2))\n",
    "\n",
    "discriminator.add(Flatten())\n",
    "discriminator.add(Dense(1, activation='tanh'))\n",
    "discriminator.compile(loss='binary_crossentropy', optimizer='Adam', metrics=['accuracy'])"
   ]
  },
  {
   "cell_type": "code",
   "execution_count": 7,
   "id": "57b5ac95-626d-4242-8302-c03a307ed1e2",
   "metadata": {},
   "outputs": [
    {
     "name": "stdout",
     "output_type": "stream",
     "text": [
      "Model: \"sequential_1\"\n",
      "_________________________________________________________________\n",
      "Layer (type)                 Output Shape              Param #   \n",
      "=================================================================\n",
      "conv2d (Conv2D)              (None, 24, 24, 128)       1280      \n",
      "_________________________________________________________________\n",
      "conv2d_1 (Conv2D)            (None, 24, 24, 64)        73792     \n",
      "_________________________________________________________________\n",
      "batch_normalization_3 (Batch (None, 24, 24, 64)        256       \n",
      "_________________________________________________________________\n",
      "conv2d_2 (Conv2D)            (None, 24, 24, 32)        18464     \n",
      "_________________________________________________________________\n",
      "conv2d_3 (Conv2D)            (None, 24, 24, 16)        4624      \n",
      "_________________________________________________________________\n",
      "batch_normalization_4 (Batch (None, 24, 24, 16)        64        \n",
      "_________________________________________________________________\n",
      "conv2d_4 (Conv2D)            (None, 24, 24, 8)         1160      \n",
      "_________________________________________________________________\n",
      "dropout (Dropout)            (None, 24, 24, 8)         0         \n",
      "_________________________________________________________________\n",
      "flatten (Flatten)            (None, 4608)              0         \n",
      "_________________________________________________________________\n",
      "dense (Dense)                (None, 1)                 4609      \n",
      "=================================================================\n",
      "Total params: 104,249\n",
      "Trainable params: 104,089\n",
      "Non-trainable params: 160\n",
      "_________________________________________________________________\n"
     ]
    }
   ],
   "source": [
    "discriminator.summary()"
   ]
  },
  {
   "cell_type": "code",
   "execution_count": 8,
   "id": "880e177c-2cf3-42d5-a9c2-f89aac3791fa",
   "metadata": {},
   "outputs": [],
   "source": [
    "gan = Sequential()\n",
    "discriminator.trainable = False\n",
    "gan.add(generator)\n",
    "gan.add(discriminator)\n",
    "gan.compile(loss='binary_crossentropy', optimizer='Adam', metrics=['accuracy'])"
   ]
  },
  {
   "cell_type": "code",
   "execution_count": 9,
   "id": "da39c332-9ac9-45a3-a3b5-1f88668063f3",
   "metadata": {},
   "outputs": [
    {
     "name": "stdout",
     "output_type": "stream",
     "text": [
      "Model: \"sequential_2\"\n",
      "_________________________________________________________________\n",
      "Layer (type)                 Output Shape              Param #   \n",
      "=================================================================\n",
      "sequential (Sequential)      (None, 24, 24, 1)         99745     \n",
      "_________________________________________________________________\n",
      "sequential_1 (Sequential)    (None, 1)                 104249    \n",
      "=================================================================\n",
      "Total params: 203,994\n",
      "Trainable params: 99,569\n",
      "Non-trainable params: 104,425\n",
      "_________________________________________________________________\n",
      "None\n"
     ]
    }
   ],
   "source": [
    "print(gan.summary())"
   ]
  },
  {
   "cell_type": "code",
   "execution_count": 34,
   "id": "2f8163f8-b132-4f85-a16f-4a7d4f9cafdd",
   "metadata": {},
   "outputs": [
    {
     "name": "stdout",
     "output_type": "stream",
     "text": [
      "-0.085465044\n",
      "Discriminator Decision: Fake\n"
     ]
    },
    {
     "data": {
      "image/png": "[encoded data removed]",
      "text/plain": [
       "<Figure size 432x288 with 1 Axes>"
      ]
     },
     "metadata": {
      "needs_background": "light"
     },
     "output_type": "display_data"
    }
   ],
   "source": [
    "choice = np.random.randint(0, 2)\n",
    "plt.figure(1)\n",
    "generated_image = None\n",
    "\n",
    "if choice == 0:\n",
    "    noise = tf.random.normal([1, 24, 24, 1])\n",
    "    generated_image = generator(noise, training=True)\n",
    "\n",
    "    plt.imshow(generated_image[0, :, :, 0]) # generate some noise to test the generator\n",
    "elif choice == 1:\n",
    "    randnum = np.random.randint(0, 60000)\n",
    "    generated_image = generator(smc2_trainset[randnum:randnum + 1], training=True)\n",
    "    plt.imshow(generated_image[0, :, :, 0])\n",
    "\n",
    "decision = discriminator(generated_image, training=False)\n",
    "decision = decision.numpy()[0][0]\n",
    "print(decision)\n",
    "\n",
    "if decision < 0:\n",
    "    print('Discriminator Decision: Fake') # test out discriminator. Outputs positive values for real and negative values for fake images\n",
    "elif decision >= 0:\n",
    "    print('Discriminator Decision: Real') # test out discriminator. Outputs positive values for real and negative values for fake images"
   ]
  },
  {
   "cell_type": "code",
   "execution_count": 17,
   "id": "c96d9bc2-5bc0-4ce3-918d-8a0461cac52c",
   "metadata": {},
   "outputs": [],
   "source": [
    "def generate_real_samples(dataset, labels, n_samples): # generate real samples with real labels\n",
    "\tix = np.random.randint(0, dataset.shape[0], n_samples)\n",
    "\tX = dataset[ix]\n",
    "\ty = labels[ix]\n",
    "\treturn X, y\n",
    "\n",
    "def generate_fake_samples(n_samples): # generate fake samples with fake labels\n",
    "    noise = tf.random.normal([n_samples, 24, 24, 1])\n",
    "    X = generator(noise, training=False)\n",
    "    y = np.random.uniform(low=-1, high=0, size=n_samples)\n",
    "    return X, y"
   ]
  },
  {
   "cell_type": "code",
   "execution_count": 18,
   "id": "68ad6272-fb45-4e4d-90ae-2aa3ccc3ac5e",
   "metadata": {},
   "outputs": [],
   "source": [
    "# evaluate the discriminator, plot generated images, save generator model\n",
    "def summarize_performance(epoch, model, dataset, d_labels, n_samples):\n",
    "    X_real, y_real = generate_real_samples(dataset, d_labels, n_samples)\n",
    "    acc_real = model.evaluate(X_real, y_real)\n",
    "    \n",
    "    x_fake, y_fake = generate_fake_samples(n_samples)\n",
    "    acc_fake = model.evaluate(x_fake, y_fake)\n",
    "\n",
    "    print('Real Image Accuracy: {}%'.format(acc_real[1] * 100))\n",
    "    print('Fake Image Accuracy: {}%'.format(acc_fake[1] * 100))"
   ]
  },
  {
   "cell_type": "code",
   "execution_count": 19,
   "id": "73bab2ec-3bb6-43e5-a0e3-8c9eab5ffeab",
   "metadata": {},
   "outputs": [],
   "source": [
    "epochs = 10\n",
    "batch_size = 100"
   ]
  },
  {
   "cell_type": "code",
   "execution_count": 20,
   "id": "b0bacf51-092e-446f-92e7-794be21cf98d",
   "metadata": {},
   "outputs": [],
   "source": [
    "def train(gan_model, dataset, data_labels, n_epochs, n_batch):\n",
    "    bat_per_epo = int(dataset.shape[0] / n_batch)\n",
    "    half_batch = int(n_batch / 2)\n",
    "    # manually enumerate epochs\n",
    "    for i in range(n_epochs):\n",
    "        for j in range(bat_per_epo):\n",
    "            # get randomly selected 'real' samples\n",
    "            X_real, y_real = generate_real_samples(dataset, data_labels, half_batch)\n",
    "            d_loss1 = gan_model.train_on_batch(X_real, y_real)\n",
    "            d_loss1 = sum(d_loss1) / len(d_loss1)\n",
    "            \n",
    "            # generate 'fake' examples\n",
    "            X_fake, y_fake = generate_fake_samples(half_batch)\n",
    "            d_loss2 = gan_model.train_on_batch(X_fake, y_fake)\n",
    "            d_loss2 = sum(d_loss2) / len(d_loss2)\n",
    "            \n",
    "            # prepare points in latent space as input for the generator\n",
    "            X_gan = tf.random.normal([n_batch, 24, 24, 1])\n",
    "            y_gan = np.random.uniform(low=0, high=1, size=n_batch)\n",
    "            # update the generator via the discriminator's error\n",
    "            g_loss = gan_model.train_on_batch(X_gan, y_gan)\n",
    "            g_loss = sum(g_loss) / len(g_loss)\n",
    "            # summarize loss on this batch\n",
    "        print('>%d, %d/%d, d1=%.3f, d2=%.3f g=%.3f' %(i+1, j+1, bat_per_epo, d_loss1, d_loss2, g_loss))\n",
    "        if (i+1) % 2 == 0:\n",
    "            summarize_performance(i, gan_model, dataset, data_labels, n_batch)"
   ]
  },
  {
   "cell_type": "code",
   "execution_count": 21,
   "id": "e97777d1-99c9-4d29-a921-a58c97f44e64",
   "metadata": {},
   "outputs": [
    {
     "name": "stderr",
     "output_type": "stream",
     "text": [
      "2021-08-11 10:55:16.182983: I tensorflow/compiler/mlir/mlir_graph_optimization_pass.cc:116] None of the MLIR optimization passes are enabled (registered 2)\n",
      "2021-08-11 10:55:16.204362: I tensorflow/core/platform/profile_utils/cpu_utils.cc:112] CPU Frequency: 3000000000 Hz\n"
     ]
    },
    {
     "name": "stdout",
     "output_type": "stream",
     "text": [
      ">1, 600/600, d1=2.904, d2=-3.643 g=3.990\n",
      ">2, 600/600, d1=2.904, d2=-4.196 g=3.518\n",
      "4/4 [==============================] - 0s 20ms/step - loss: 5.1416 - accuracy: 0.6667\n",
      "4/4 [==============================] - 0s 2ms/step - loss: -8.5700 - accuracy: 0.0000e+00\n",
      "Real Image Accuracy: 66.66666269302368%\n",
      "Fake Image Accuracy: 0.0%\n",
      ">3, 600/600, d1=2.904, d2=-4.001 g=4.016\n",
      ">4, 600/600, d1=2.904, d2=-4.105 g=3.982\n",
      "4/4 [==============================] - 0s 2ms/step - loss: 5.1416 - accuracy: 0.6667\n",
      "4/4 [==============================] - 0s 2ms/step - loss: -7.9225 - accuracy: 0.0000e+00\n",
      "Real Image Accuracy: 66.66666269302368%\n",
      "Fake Image Accuracy: 0.0%\n",
      ">5, 600/600, d1=2.904, d2=-3.663 g=3.476\n",
      ">6, 600/600, d1=2.904, d2=-3.791 g=3.345\n",
      "4/4 [==============================] - 0s 2ms/step - loss: 5.1416 - accuracy: 0.6667\n",
      "4/4 [==============================] - 0s 2ms/step - loss: -7.4085 - accuracy: 0.0000e+00\n",
      "Real Image Accuracy: 66.66666269302368%\n",
      "Fake Image Accuracy: 0.0%\n",
      ">7, 600/600, d1=2.904, d2=-4.030 g=3.887\n",
      ">8, 600/600, d1=2.904, d2=-3.859 g=4.046\n",
      "4/4 [==============================] - 0s 2ms/step - loss: 5.1416 - accuracy: 0.6667\n",
      "4/4 [==============================] - 0s 2ms/step - loss: -7.7030 - accuracy: 0.0000e+00\n",
      "Real Image Accuracy: 66.66666269302368%\n",
      "Fake Image Accuracy: 0.0%\n",
      ">9, 600/600, d1=2.904, d2=-3.958 g=3.509\n",
      ">10, 600/600, d1=2.904, d2=-3.868 g=4.142\n",
      "4/4 [==============================] - 0s 2ms/step - loss: 5.1416 - accuracy: 0.6667\n",
      "4/4 [==============================] - 0s 2ms/step - loss: -8.0278 - accuracy: 0.0000e+00\n",
      "Real Image Accuracy: 66.66666269302368%\n",
      "Fake Image Accuracy: 0.0%\n"
     ]
    }
   ],
   "source": [
    "train(gan, smc2_trainset, smc2_lt_onehot, epochs, batch_size)"
   ]
  }
 ],
 "metadata": {
  "kernelspec": {
   "display_name": "OLCF-CUDA11 (ipykernel)",
   "language": "python",
   "name": "python3"
  },
  "language_info": {
   "codemirror_mode": {
    "name": "ipython",
    "version": 3
   },
   "file_extension": ".py",
   "mimetype": "text/x-python",
   "name": "python",
   "nbconvert_exporter": "python",
   "pygments_lexer": "ipython3",
   "version": "3.8.10"
  }
 },
 "nbformat": 4,
 "nbformat_minor": 5
}
