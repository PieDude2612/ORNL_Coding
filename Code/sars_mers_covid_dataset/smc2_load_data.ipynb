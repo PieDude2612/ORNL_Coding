{
 "cells": [
  {
   "cell_type": "code",
   "execution_count": 1,
   "id": "7d10f0a0-65a5-495d-bde9-c2275aa6d136",
   "metadata": {},
   "outputs": [],
   "source": [
    "import h5py\n",
    "import numpy as np\n",
    "import time\n",
    "from sklearn.utils import shuffle\n",
    "from tensorflow.keras.utils import to_categorical"
   ]
  },
  {
   "cell_type": "code",
   "execution_count": 2,
   "id": "41dc21c5-ddc5-4cbc-90ec-e2856614d301",
   "metadata": {},
   "outputs": [
    {
     "name": "stdout",
     "output_type": "stream",
     "text": [
      "Mon Jun 28 11:52:56 2021: Initializing...\n",
      "Mon Jun 28 11:52:58 2021: Successfully loaded all data sets!\n"
     ]
    }
   ],
   "source": [
    "print(str(time.ctime()) + \": Initializing...\")\n",
    "sarsmerscov_train = h5py.File('/ccs/proj/gen150/arjun2612/ORNL/datasets/sars-mers-cov2_train.h5', 'r')\n",
    "sarsmerscov_val = h5py.File('/ccs/proj/gen150/arjun2612/ORNL/datasets/sars-mers-cov2_val.h5', 'r')\n",
    "lt = list(open('/ccs/proj/gen150/arjun2612/ORNL/txtFiles/label_train.txt', 'r'))\n",
    "lv = list(open('/ccs/proj/gen150/arjun2612/ORNL/txtFiles/label_val.txt', 'r')) # open all files\n",
    "cvae_embeddings = np.load('/gpfs/alpine/gen150/scratch/arjun2612/ORNL_Coding/Code/sars_mers_cov2_dataset/cvae/sars-mers-cov2-embeddings.npy', 'r')\n",
    "cvae_samples = np.load('/gpfs/alpine/gen150/scratch/arjun2612/ORNL_Coding/Code/sars_mers_cov2_dataset/cvae/sars-mers-cov2-samples.npz', 'r')\n",
    "\n",
    "label_training = np.array([])\n",
    "label_validation = np.array([])\n",
    "\n",
    "train_size = 60000 # 10% of the datasets\n",
    "val_size = 15000\n",
    "\n",
    "for i in range(train_size):\n",
    "    num = int(str(lt[i]).strip('\\n'))\n",
    "    label_training = np.append(label_training, num)\n",
    "    \n",
    "for j in range(val_size):\n",
    "    num = int(str(lv[j]).strip('\\n'))\n",
    "    label_validation = np.append(label_validation, num)\n",
    "\n",
    "trainset = np.array(sarsmerscov_train['contact_maps'][0:train_size]).astype(float) # 60000 x 24 x 24 x 1\n",
    "valset = np.array(sarsmerscov_val['contact_maps'][0:val_size]).astype(float) # 15000 x 24 x 24 x 1\n",
    "\n",
    "trainset, label_training = shuffle(trainset, label_training, random_state=0)\n",
    "valset, label_validation = shuffle(valset, label_validation, random_state=0)\n",
    "\n",
    "train_3D = np.tril(trainset[:, :, :, 0])\n",
    "val_3D = np.tril(valset[:, :, :, 0])\n",
    "\n",
    "lt_onehot = to_categorical(label_training) # make one hot vectors\n",
    "lv_onehot = to_categorical(label_validation)\n",
    "\n",
    "cvae_embeddings = np.squeeze(cvae_embeddings)[0:val_size]\n",
    "\n",
    "lt = None\n",
    "lv = None\n",
    "sarsmerscov_train = None\n",
    "sarsmerscov_val = None # garbage collection to free up memory\n",
    "\n",
    "print(str(time.ctime()) + \": Successfully loaded all data sets!\")"
   ]
  },
  {
   "cell_type": "code",
   "execution_count": 3,
   "id": "4acbed1c-8e0c-4333-9ea9-a6e57a067635",
   "metadata": {},
   "outputs": [],
   "source": [
    "np.savez('smc2_dataset.npz', train=trainset, val=valset, train3D=train_3D, val3D=val_3D, ltoh=lt_onehot, lvoh=lv_onehot, labtrain=label_training, labval=label_validation)"
   ]
  },
  {
   "cell_type": "code",
   "execution_count": null,
   "id": "bb0a2479-31be-4750-9152-8d81bdd6c70b",
   "metadata": {},
   "outputs": [],
   "source": []
  }
 ],
 "metadata": {
  "kernelspec": {
   "display_name": "OLCF-CUDA11",
   "language": "python",
   "name": "python3"
  },
  "language_info": {
   "codemirror_mode": {
    "name": "ipython",
    "version": 3
   },
   "file_extension": ".py",
   "mimetype": "text/x-python",
   "name": "python",
   "nbconvert_exporter": "python",
   "pygments_lexer": "ipython3",
   "version": "3.8.3"
  }
 },
 "nbformat": 4,
 "nbformat_minor": 5
}
