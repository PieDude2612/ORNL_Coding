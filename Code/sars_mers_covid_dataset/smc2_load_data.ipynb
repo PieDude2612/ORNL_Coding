{
 "cells": [
  {
   "cell_type": "code",
   "execution_count": null,
   "id": "7d10f0a0-65a5-495d-bde9-c2275aa6d136",
   "metadata": {},
   "outputs": [],
   "source": [
    "import h5py\n",
    "import numpy as np\n",
    "import time\n",
    "from sklearn.utils import shuffle\n",
    "from tensorflow.keras.utils import to_categorical"
   ]
  },
  {
   "cell_type": "code",
   "execution_count": null,
   "id": "41dc21c5-ddc5-4cbc-90ec-e2856614d301",
   "metadata": {},
   "outputs": [],
   "source": [
    "print(str(time.ctime()) + \": Initializing...\")\n",
    "\n",
    "sarsmerscov_dm_train = h5py.File('/gpfs/alpine/gen150/scratch/arjun2612/ORNL_Coding/Code/sars_mers_cov2_dataset/cvae/sars-mers-cov2_dm_train.h5', 'r')\n",
    "sarsmerscov_dm_val = h5py.File('/gpfs/alpine/gen150/scratch/arjun2612/ORNL_Coding/Code/sars_mers_cov2_dataset/cvae/sars-mers-cov2_dm_val.h5', 'r')\n",
    "\n",
    "sarsmerscov_cm_train = h5py.File('/gpfs/alpine/gen150/scratch/arjun2612/ORNL_Coding/Code/sars_mers_cov2_dataset/cvae/sars-mers-cov2_cm_train.h5', 'r')\n",
    "sarsmerscov_cm_val = h5py.File('/gpfs/alpine/gen150/scratch/arjun2612/ORNL_Coding/Code/sars_mers_cov2_dataset/cvae/sars-mers-cov2_cm_val.h5', 'r')\n",
    "\n",
    "lt = list(open('/gpfs/alpine/gen150/scratch/arjun2612/ORNL_Coding/Code/sars_mers_cov2_dataset/label_train.txt', 'r'))\n",
    "lv = list(open('/gpfs/alpine/gen150/scratch/arjun2612/ORNL_Coding/Code/sars_mers_cov2_dataset/label_val.txt', 'r')) # open all files\n",
    "\n",
    "cvae_embeddings = np.load('/gpfs/alpine/gen150/scratch/arjun2612/ORNL_Coding/Code/sars_mers_cov2_dataset/cvae/sars-mers-cov2-embeddings.npy', 'r')\n",
    "cvae_samples = np.load('/gpfs/alpine/gen150/scratch/arjun2612/ORNL_Coding/Code/sars_mers_cov2_dataset/cvae/sars-mers-cov2-samples.npz', 'r')\n",
    "\n",
    "print(str(time.ctime()) + \": Successfully loaded all data sets!\")"
   ]
  },
  {
   "cell_type": "code",
   "execution_count": null,
   "id": "e83e931e-8ce8-4d87-89ed-b5deb4f662ec",
   "metadata": {},
   "outputs": [],
   "source": [
    "train_size = 60000\n",
    "val_size = 15000"
   ]
  },
  {
   "cell_type": "code",
   "execution_count": null,
   "id": "2ae609da-6396-4535-af4e-c22da0a3fe27",
   "metadata": {},
   "outputs": [],
   "source": [
    "label_training = np.array([])\n",
    "label_validation = np.array([])\n",
    "\n",
    "for i in range(train_size):\n",
    "    num = int(str(lt[i]).strip('\\n'))\n",
    "    label_training = np.append(label_training, num)\n",
    "    \n",
    "for j in range(val_size):\n",
    "    num = int(str(lv[j]).strip('\\n'))\n",
    "    label_validation = np.append(label_validation, num)\n",
    "\n",
    "lt_onehot = to_categorical(label_training) # make one hot vectors\n",
    "lv_onehot = to_categorical(label_validation)"
   ]
  },
  {
   "cell_type": "code",
   "execution_count": null,
   "id": "395e1a02-2d0a-41cc-9e57-e5955c8a1823",
   "metadata": {},
   "outputs": [],
   "source": [
    "trainset_cm = np.array(sarsmerscov_cm_train['contact_maps'][0:train_size]).astype(float) # 60000 x 24 x 24 x 1\n",
    "valset_cm = np.array(sarsmerscov_cm_val['contact_maps'][0:val_size]).astype(float) # 15000 x 24 x 24 x 1\n",
    "\n",
    "trainset_cm, label_training = shuffle(trainset_cm, label_training, random_state=0)\n",
    "valset_cm, label_validation = shuffle(valset_cm, label_validation, random_state=0)\n",
    "\n",
    "train_3D_cm = np.tril(trainset_cm[:, :, :, 0])\n",
    "val_3D_cm = np.tril(valset_cm[:, :, :, 0])"
   ]
  },
  {
   "cell_type": "code",
   "execution_count": null,
   "id": "9bb6699d-4e3a-438b-85f9-1488c0c6318a",
   "metadata": {},
   "outputs": [],
   "source": [
    "trainset_dm = np.array(sarsmerscov_dm_train['contact_maps'][0:train_size]).astype(float) # 60000 x 24 x 24 x 1\n",
    "valset_dm = np.array(sarsmerscov_dm_val['contact_maps'][0:val_size]).astype(float) # 15000 x 24 x 24 x 1\n",
    "\n",
    "trainset_dm, label_training = shuffle(trainset_dm, label_training, random_state=0)\n",
    "valset_dm, label_validation = shuffle(valset_dm, label_validation, random_state=0)\n",
    "\n",
    "train_3D_dm = np.tril(trainset_dm[:, :, :, 0])\n",
    "val_3D_dm = np.tril(valset_dm[:, :, :, 0])"
   ]
  },
  {
   "cell_type": "code",
   "execution_count": null,
   "id": "95d49c1c-f559-43d3-8a39-5ecc3822f3ea",
   "metadata": {},
   "outputs": [],
   "source": [
    "cvae_embeddings = np.squeeze(cvae_embeddings)[0:val_size]"
   ]
  },
  {
   "cell_type": "code",
   "execution_count": null,
   "id": "f02b8fca-65de-4d00-9640-40ef92489691",
   "metadata": {},
   "outputs": [],
   "source": [
    "lt = None\n",
    "lv = None\n",
    "sarsmerscov_dm_train = None\n",
    "sarsmerscov_dm_val = None \n",
    "sarsmerscov_cm_train = None\n",
    "sarsmerscov_cm_val = None # garbage collection to free up memory"
   ]
  },
  {
   "cell_type": "code",
   "execution_count": null,
   "id": "4acbed1c-8e0c-4333-9ea9-a6e57a067635",
   "metadata": {},
   "outputs": [],
   "source": [
    "np.savez('smc2_cm_dataset.npz', train=trainset_cm, val=valset_cm, train3D=train_3D_cm, val3D=val_3D_cm, ltoh=lt_onehot, lvoh=lv_onehot, labtrain=label_training, labval=label_validation)"
   ]
  },
  {
   "cell_type": "code",
   "execution_count": null,
   "id": "bb0a2479-31be-4750-9152-8d81bdd6c70b",
   "metadata": {},
   "outputs": [],
   "source": [
    "np.savez('smc2_dm_dataset.npz', train=trainset_dm, val=valset_dm, train3D=train_3D_dm, val3D=val_3D_dm, ltoh=lt_onehot, lvoh=lv_onehot, labtrain=label_training, labval=label_validation)"
   ]
  }
 ],
 "metadata": {
  "kernelspec": {
   "display_name": "OLCF-CUDA11",
   "language": "python",
   "name": "python3"
  },
  "language_info": {
   "codemirror_mode": {
    "name": "ipython",
    "version": 3
   },
   "file_extension": ".py",
   "mimetype": "text/x-python",
   "name": "python",
   "nbconvert_exporter": "python",
   "pygments_lexer": "ipython3",
   "version": "3.8.3"
  }
 },
 "nbformat": 4,
 "nbformat_minor": 5
}
