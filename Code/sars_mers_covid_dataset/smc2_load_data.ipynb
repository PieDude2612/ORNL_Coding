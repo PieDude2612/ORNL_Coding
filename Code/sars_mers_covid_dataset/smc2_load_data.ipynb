{
 "cells": [
  {
   "cell_type": "code",
   "execution_count": 1,
   "id": "7d10f0a0-65a5-495d-bde9-c2275aa6d136",
   "metadata": {},
   "outputs": [],
   "source": [
    "import h5py\n",
    "import numpy as np\n",
    "import time\n",
    "from sklearn.utils import shuffle\n",
    "from tensorflow.keras.utils import to_categorical"
   ]
  },
  {
   "cell_type": "code",
   "execution_count": 2,
   "id": "41dc21c5-ddc5-4cbc-90ec-e2856614d301",
   "metadata": {},
   "outputs": [
    {
     "name": "stdout",
     "output_type": "stream",
     "text": [
      "Thu Jul  8 16:03:47 2021: Initializing...\n",
      "Thu Jul  8 16:03:47 2021: Successfully loaded all data sets!\n"
     ]
    }
   ],
   "source": [
    "print(str(time.ctime()) + \": Initializing...\")\n",
    "\n",
    "sarsmerscov_train = h5py.File('/ccs/proj/gen150/arjun2612/ORNL/datasets/sars-mers-cov2_train.h5', 'r')\n",
    "sarsmerscov_val = h5py.File('/ccs/proj/gen150/arjun2612/ORNL/datasets/sars-mers-cov2_val.h5', 'r')\n",
    "\n",
    "lt = list(open('/gpfs/alpine/gen150/scratch/arjun2612/ORNL_Coding/Code/sars_mers_cov2_dataset/label_train.txt', 'r'))\n",
    "lv = list(open('/gpfs/alpine/gen150/scratch/arjun2612/ORNL_Coding/Code/sars_mers_cov2_dataset/label_val.txt', 'r')) # open all files\n",
    "\n",
    "cvae_embeddings = np.load('/gpfs/alpine/gen150/scratch/arjun2612/ORNL_Coding/Code/sars_mers_cov2_dataset/cvae/sars-mers-cov2-embeddings.npy', 'r')\n",
    "cvae_samples = np.load('/gpfs/alpine/gen150/scratch/arjun2612/ORNL_Coding/Code/sars_mers_cov2_dataset/cvae/sars-mers-cov2-samples.npz', 'r')\n",
    "\n",
    "print(str(time.ctime()) + \": Successfully loaded all data sets!\")"
   ]
  },
  {
   "cell_type": "code",
   "execution_count": 3,
   "id": "e83e931e-8ce8-4d87-89ed-b5deb4f662ec",
   "metadata": {},
   "outputs": [],
   "source": [
    "train_size = 60000\n",
    "val_size = 15000"
   ]
  },
  {
   "cell_type": "code",
   "execution_count": 4,
   "id": "2ae609da-6396-4535-af4e-c22da0a3fe27",
   "metadata": {},
   "outputs": [],
   "source": [
    "label_training = np.array([])\n",
    "label_validation = np.array([])\n",
    "\n",
    "for i in range(len(lt)):\n",
    "    num = int(str(lt[i]).strip('\\n'))\n",
    "    label_training = np.append(label_training, num)\n",
    "    \n",
    "for j in range(len(lv)):\n",
    "    num = int(str(lv[j]).strip('\\n'))\n",
    "    label_validation = np.append(label_validation, num)"
   ]
  },
  {
   "cell_type": "code",
   "execution_count": 5,
   "id": "395e1a02-2d0a-41cc-9e57-e5955c8a1823",
   "metadata": {},
   "outputs": [],
   "source": [
    "trainset = np.array(sarsmerscov_train['contact_maps']).astype(float) # 60000 x 24 x 24 x 1\n",
    "valset = np.array(sarsmerscov_val['contact_maps']).astype(float) # 15000 x 24 x 24 x 1\n",
    "\n",
    "trainset, label_training = shuffle(trainset, label_training, random_state=0)\n",
    "valset, label_validation = shuffle(valset, label_validation, random_state=0)\n",
    "\n",
    "trainset = trainset[0:train_size]\n",
    "valset = valset[0:val_size]\n",
    "label_training = label_training[0:train_size]\n",
    "label_validation = label_validation[0:val_size]\n",
    "\n",
    "train_3D = np.tril(trainset[:, :, :, 0])\n",
    "val_3D = np.tril(valset[:, :, :, 0])\n",
    "\n",
    "lt_onehot = to_categorical(label_training) # make one hot vectors\n",
    "lv_onehot = to_categorical(label_validation)"
   ]
  },
  {
   "cell_type": "code",
   "execution_count": 6,
   "id": "95d49c1c-f559-43d3-8a39-5ecc3822f3ea",
   "metadata": {},
   "outputs": [],
   "source": [
    "cvae_embeddings = np.squeeze(cvae_embeddings)[0:val_size]"
   ]
  },
  {
   "cell_type": "code",
   "execution_count": 7,
   "id": "f02b8fca-65de-4d00-9640-40ef92489691",
   "metadata": {},
   "outputs": [],
   "source": [
    "lt = None\n",
    "lv = None\n",
    "sarsmerscov_train = None\n",
    "sarsmerscov_val = None # garbage collection to free up memory"
   ]
  },
  {
   "cell_type": "code",
   "execution_count": 8,
   "id": "bb0a2479-31be-4750-9152-8d81bdd6c70b",
   "metadata": {},
   "outputs": [],
   "source": [
    "np.savez('smc2_dataset.npz', train4D=trainset, val4D=valset, train3D=train_3D, val3D=val_3D, ltoh=lt_onehot, lvoh=lv_onehot, labtrain=label_training, labval=label_validation)"
   ]
  }
 ],
 "metadata": {
  "kernelspec": {
   "display_name": "OLCF-CUDA11",
   "language": "python",
   "name": "python3"
  },
  "language_info": {
   "codemirror_mode": {
    "name": "ipython",
    "version": 3
   },
   "file_extension": ".py",
   "mimetype": "text/x-python",
   "name": "python",
   "nbconvert_exporter": "python",
   "pygments_lexer": "ipython3",
   "version": "3.8.3"
  }
 },
 "nbformat": 4,
 "nbformat_minor": 5
}
